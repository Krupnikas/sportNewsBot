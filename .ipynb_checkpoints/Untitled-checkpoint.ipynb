{
 "cells": [
  {
   "cell_type": "code",
   "execution_count": 1,
   "metadata": {},
   "outputs": [
    {
     "name": "stdout",
     "output_type": "stream",
     "text": [
      "Posted links file posted.csv not found and will be created\n"
     ]
    }
   ],
   "source": [
    "from bot import authentificate_in_yandex_zen\n",
    "from selenium import webdriver\n",
    "from selenium.webdriver.common.keys import Keys\n",
    "from selenium.webdriver.common.action_chains import ActionChains\n",
    "import pyperclip\n",
    "from time import sleep"
   ]
  },
  {
   "cell_type": "code",
   "execution_count": 2,
   "metadata": {
    "scrolled": true
   },
   "outputs": [
    {
     "name": "stdout",
     "output_type": "stream",
     "text": [
      "Password for krupnik35: \n"
     ]
    }
   ],
   "source": [
    "driver = webdriver.Chrome()\n",
    "authentificate_in_yandex_zen(driver)\n",
    "\n",
    "gif_url = 'https://cs9.pikabu.ru/post_img/2019/03/31/7/1554027728274574912.gif'"
   ]
  },
  {
   "cell_type": "code",
   "execution_count": 15,
   "metadata": {},
   "outputs": [
    {
     "name": "stdout",
     "output_type": "stream",
     "text": [
      "Message: no such element: Unable to locate element: {\"method\":\"css selector\",\"selector\":\".close-cross.close-cross_black.close-cross_size_s.help-popup__close-cross\"}\n",
      "  (Session info: chrome=73.0.3683.103)\n",
      "  (Driver info: chromedriver=72.0.3626.69 (3c16f8a135abc0d4da2dff33804db79b849a7c38),platform=Mac OS X 10.14.4 x86_64)\n",
      "\n"
     ]
    }
   ],
   "source": [
    "# Preparing\n",
    "driver.get(\"https://zen.yandex.ru/profile/editor/id/5c8ce13954593600b40ba8e4\")\n",
    "sleep(1.1)\n",
    "\n",
    "driver.find_element_by_css_selector(\".header__add-button\").click()\n",
    "sleep(1.2)\n",
    "driver.find_element_by_css_selector(\".header__popup-add-button_article\").click()\n",
    "sleep(1.4)\n",
    "try:\n",
    "    close_btn = driver.find_element_by_css_selector(\n",
    "        \".close-cross.close-cross_black.close-cross_size_s.help-popup__close-cross\")\n",
    "    if close_btn is not None:\n",
    "        close_btn.click()\n",
    "except Exception as e:\n",
    "    print(str(e))\n",
    "sleep(1)"
   ]
  },
  {
   "cell_type": "code",
   "execution_count": 16,
   "metadata": {},
   "outputs": [],
   "source": [
    "# Title\n",
    "title_field = driver.find_element_by_css_selector(\".public-DraftStyleDefault-block.public-DraftStyleDefault-ltr\")\n",
    "title_field.click()\n",
    "sleep(1.5)\n",
    "actions = ActionChains(driver)\n",
    "actions.reset_actions()\n",
    "actions.send_keys(\"Title\")\n",
    "actions.perform()\n",
    "sleep(1.1)"
   ]
  },
  {
   "cell_type": "code",
   "execution_count": 17,
   "metadata": {},
   "outputs": [],
   "source": [
    "def create_new_paragraph(driver, force = False):\n",
    "    # Paragraph\n",
    "    fields = driver.find_elements_by_css_selector(\".public-DraftStyleDefault-block.public-DraftStyleDefault-ltr\")\n",
    "    num_before = len(fields)\n",
    "    print(num_before)\n",
    "    \n",
    "    last_field = fields[-1]\n",
    "    try:\n",
    "        last_field.click()\n",
    "    except Exception:\n",
    "        pass\n",
    "    \n",
    "    if last_field.text != \"\" or force:\n",
    "        print(\"Creating new paragraph\")\n",
    "        actions = ActionChains(driver)\n",
    "        actions.reset_actions()\n",
    "        actions.move_to_element(last_field)\n",
    "        actions.click()\n",
    "        actions.release()\n",
    "        actions.pause(0.5)\n",
    "        actions.send_keys(Keys.ARROW_RIGHT)\n",
    "        actions.send_keys(Keys.RETURN)\n",
    "        actions.perform()\n",
    "        fields = driver.find_elements_by_css_selector(\".public-DraftStyleDefault-block.public-DraftStyleDefault-ltr\")\n",
    "        last_field = fields[-1]\n",
    "        \n",
    "        num_after = len(fields)\n",
    "        \n",
    "        if last_field.text == \"\" and num_after > num_before:\n",
    "            print(\"Success!\")\n",
    "        else:\n",
    "            print(\"Fail!\")"
   ]
  },
  {
   "cell_type": "code",
   "execution_count": 18,
   "metadata": {},
   "outputs": [],
   "source": [
    "def add_text_paragraph(driver, text):\n",
    "    create_new_paragraph(driver)\n",
    "\n",
    "    fields = driver.find_elements_by_css_selector(\".public-DraftStyleDefault-block.public-DraftStyleDefault-ltr\")\n",
    "#     fields = driver.find_elements_by_css_selector(\".zen-editor-block.zen-editor-block-paragraph\")\n",
    "    last_field = fields[-1]\n",
    "    try:\n",
    "        last_field.click()\n",
    "    except Exception:\n",
    "        pass\n",
    "    \n",
    "    actions = ActionChains(driver)\n",
    "    actions.reset_actions()\n",
    "    actions.move_to_element(last_field)\n",
    "    actions.click()\n",
    "    actions.release()\n",
    "    actions.pause(0.5)\n",
    "    actions.send_keys(text)\n",
    "    actions.perform()"
   ]
  },
  {
   "cell_type": "code",
   "execution_count": 24,
   "metadata": {},
   "outputs": [],
   "source": [
    "# Gif\n",
    "def add_gif_paragraph(driver, url):\n",
    "    sleep(1)\n",
    "    before_images_num = len(driver.find_elements_by_css_selector(\".zen-editor-block-image__image\"))\n",
    "\n",
    "    attachment_button = None\n",
    "    try:\n",
    "        create_new_paragraph(driver)\n",
    "        sleep(1)\n",
    "        attachment_button = driver.find_element_by_css_selector(\".side-button.side-button_logo_image\")\n",
    "        if attachment_button is None:\n",
    "            create_new_paragraph(driver)\n",
    "            sleep(1)\n",
    "            attachment_button = driver.find_element_by_css_selector(\".side-button.side-button_logo_image\")\n",
    "        print(f\"Att button: {attachment_button}\")\n",
    "        attachment_button.click()\n",
    "        sleep(1)\n",
    "    except Exception as e:\n",
    "        print(f\"Can't find or create attachment button {str(e)}\")\n",
    "        return\n",
    "    \n",
    "    if attachment_button is None:\n",
    "        print(\"Can't find or create attachment button\")\n",
    "        return\n",
    "    \n",
    "    \n",
    "\n",
    "    link_field = driver.find_element_by_css_selector(\".image-popup__url-input\")\n",
    "    pyperclip.copy(gif_url)\n",
    "    ActionChains(driver).key_down(Keys.SHIFT).send_keys(Keys.INSERT).key_up(Keys.SHIFT).perform()\n",
    "    sleep(3)\n",
    "\n",
    "    try:\n",
    "        while True:\n",
    "\n",
    "            images_num = len(driver.find_elements_by_css_selector(\".zen-editor-block-image__image\"))\n",
    "            if images_num > before_images_num:\n",
    "                print(\"Posted!\")\n",
    "                break\n",
    "\n",
    "            print(\"Trying to post\")\n",
    "            link_field = driver.find_element_by_css_selector(\".image-popup__url-input\")\n",
    "            link_field.click()\n",
    "            pyperclip.copy(url)\n",
    "            ActionChains(driver).key_down(Keys.SHIFT).send_keys(Keys.INSERT).key_up(Keys.SHIFT).perform()\n",
    "            sleep(1)\n",
    "\n",
    "    except Exception as e:\n",
    "        print(\"Worked before\")\n",
    "        \n",
    "    \n"
   ]
  },
  {
   "cell_type": "code",
   "execution_count": 20,
   "metadata": {},
   "outputs": [],
   "source": [
    "def add_gif_caption(driver, index, caption):\n",
    "    captions = driver.find_elements_by_css_selector(\".zen-editor-block-image__caption\")\n",
    "    print(f\"Captions num: {len(captions)}\")\n",
    "\n",
    "    pyperclip.copy(caption)\n",
    "    \n",
    "    actions = ActionChains(driver)\n",
    "    actions.reset_actions()\n",
    "    print(f\"Moving to {index}\")\n",
    "    actions.move_to_element(captions[index])\n",
    "    actions.pause(1)\n",
    "    actions.click()\n",
    "    actions.pause(1)\n",
    "    actions.perform()\n",
    "    ActionChains(driver).key_down(Keys.SHIFT).send_keys(Keys.INSERT).key_up(Keys.SHIFT).perform()\n",
    "    sleep(1)"
   ]
  },
  {
   "cell_type": "code",
   "execution_count": 22,
   "metadata": {},
   "outputs": [
    {
     "name": "stdout",
     "output_type": "stream",
     "text": [
      "3\n",
      "Att button: <selenium.webdriver.remote.webelement.WebElement (session=\"8d6f486e43bdbcae218e462661b08017\", element=\"0.3903863204743234-3\")>\n",
      "Trying to post\n",
      "Posted!\n",
      "4\n",
      "Att button: <selenium.webdriver.remote.webelement.WebElement (session=\"8d6f486e43bdbcae218e462661b08017\", element=\"0.3903863204743234-3\")>\n",
      "Can't find or create attachment button Message: unknown error: Element <button class=\"side-button side-button_logo_image \" data-tip=\"Вставить изображение\" currentitem=\"false\"></button> is not clickable at point (200, 194). Other element would receive the click: <div class=\"ReactModal__Overlay ReactModal__Overlay--after-open popup__overlay popup__overlay_color_light\" aria-modal=\"true\">...</div>\n",
      "  (Session info: chrome=73.0.3683.103)\n",
      "  (Driver info: chromedriver=72.0.3626.69 (3c16f8a135abc0d4da2dff33804db79b849a7c38),platform=Mac OS X 10.14.4 x86_64)\n",
      "\n"
     ]
    }
   ],
   "source": [
    "# add_text_paragraph(driver, \"Caption 1\")\n",
    "# create_new_paragraph(driver)\n",
    "# create_new_paragraph(driver)\n",
    "# add_text_paragraph(driver, \"Caption 2\")\n",
    "# create_new_paragraph(driver)\n",
    "# create_new_paragraph(driver)\n",
    "add_gif_paragraph(driver, gif_url)\n",
    "add_gif_paragraph(driver, gif_url)"
   ]
  },
  {
   "cell_type": "code",
   "execution_count": 23,
   "metadata": {},
   "outputs": [
    {
     "name": "stdout",
     "output_type": "stream",
     "text": [
      "Captions num: 2\n",
      "Moving to 0\n",
      "Captions num: 2\n",
      "Moving to 1\n"
     ]
    }
   ],
   "source": [
    "add_gif_caption(driver, 0, \"First\")\n",
    "add_gif_caption(driver, 1, \"Second\")"
   ]
  },
  {
   "cell_type": "code",
   "execution_count": 11,
   "metadata": {},
   "outputs": [],
   "source": [
    "# add_gif_caption(driver, 1, \"Second\")"
   ]
  },
  {
   "cell_type": "code",
   "execution_count": null,
   "metadata": {},
   "outputs": [],
   "source": []
  }
 ],
 "metadata": {
  "kernelspec": {
   "display_name": "Python 3",
   "language": "python",
   "name": "python3"
  },
  "language_info": {
   "codemirror_mode": {
    "name": "ipython",
    "version": 3
   },
   "file_extension": ".py",
   "mimetype": "text/x-python",
   "name": "python",
   "nbconvert_exporter": "python",
   "pygments_lexer": "ipython3",
   "version": "3.6.5"
  }
 },
 "nbformat": 4,
 "nbformat_minor": 2
}
