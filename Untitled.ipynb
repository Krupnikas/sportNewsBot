{
 "cells": [
  {
   "cell_type": "code",
   "execution_count": 1,
   "metadata": {},
   "outputs": [
    {
     "name": "stdout",
     "output_type": "stream",
     "text": [
      "Posted links file posted.csv not found and will be created\n"
     ]
    }
   ],
   "source": [
    "from bot import authentificate_in_yandex_zen\n",
    "from selenium import webdriver\n",
    "from selenium.webdriver.common.keys import Keys\n",
    "from selenium.webdriver.common.action_chains import ActionChains\n",
    "import pyperclip\n",
    "from time import sleep"
   ]
  },
  {
   "cell_type": "code",
   "execution_count": 2,
   "metadata": {
    "scrolled": true
   },
   "outputs": [
    {
     "name": "stdout",
     "output_type": "stream",
     "text": [
      "Password for krupnik35: \n"
     ]
    }
   ],
   "source": [
    "driver = webdriver.Chrome()\n",
    "authentificate_in_yandex_zen(driver)\n",
    "\n",
    "gif_url = 'https://cs9.pikabu.ru/post_img/2019/03/31/7/1554027728274574912.gif'"
   ]
  },
  {
   "cell_type": "code",
   "execution_count": 11,
   "metadata": {},
   "outputs": [
    {
     "name": "stdout",
     "output_type": "stream",
     "text": [
      "Message: no such element: Unable to locate element: {\"method\":\"css selector\",\"selector\":\".close-cross.close-cross_black.close-cross_size_s.help-popup__close-cross\"}\n",
      "  (Session info: chrome=73.0.3683.103)\n",
      "  (Driver info: chromedriver=72.0.3626.69 (3c16f8a135abc0d4da2dff33804db79b849a7c38),platform=Mac OS X 10.14.4 x86_64)\n",
      "\n"
     ]
    }
   ],
   "source": [
    "# Preparing\n",
    "driver.get(\"https://zen.yandex.ru/profile/editor/id/5c8ce13954593600b40ba8e4\")\n",
    "sleep(1.1)\n",
    "\n",
    "driver.find_element_by_css_selector(\".header__add-button\").click()\n",
    "sleep(1.2)\n",
    "driver.find_element_by_css_selector(\".header__popup-add-button_article\").click()\n",
    "sleep(1.4)\n",
    "try:\n",
    "    close_btn = driver.find_element_by_css_selector(\n",
    "        \".close-cross.close-cross_black.close-cross_size_s.help-popup__close-cross\")\n",
    "    if close_btn is not None:\n",
    "        close_btn.click()\n",
    "except Exception as e:\n",
    "    print(str(e))\n",
    "sleep(1)"
   ]
  },
  {
   "cell_type": "code",
   "execution_count": 5,
   "metadata": {},
   "outputs": [],
   "source": [
    "def add_title(driver, title):\n",
    "    # Title\n",
    "    title_field = driver.find_element_by_css_selector(\".public-DraftStyleDefault-block.public-DraftStyleDefault-ltr\")\n",
    "    title_field.click()\n",
    "    sleep(1.5)\n",
    "    actions = ActionChains(driver)\n",
    "    actions.reset_actions()\n",
    "    actions.send_keys(title)\n",
    "    actions.perform()\n",
    "    sleep(1.1)"
   ]
  },
  {
   "cell_type": "code",
   "execution_count": 6,
   "metadata": {},
   "outputs": [],
   "source": [
    "def create_new_paragraph(driver, force = False):\n",
    "    # Paragraph\n",
    "    fields = driver.find_elements_by_css_selector(\".public-DraftStyleDefault-block.public-DraftStyleDefault-ltr\")\n",
    "    num_before = len(fields)\n",
    "    print(num_before)\n",
    "    \n",
    "    last_field = fields[-1]\n",
    "    try:\n",
    "        last_field.click()\n",
    "    except Exception:\n",
    "        pass\n",
    "    \n",
    "    if last_field.text != \"\" or force:\n",
    "        print(\"Creating new paragraph\")\n",
    "        actions = ActionChains(driver)\n",
    "        actions.reset_actions()\n",
    "        actions.move_to_element(last_field)\n",
    "        actions.click()\n",
    "        actions.release()\n",
    "        actions.pause(0.5)\n",
    "        actions.send_keys(Keys.ARROW_RIGHT)\n",
    "        actions.send_keys(Keys.RETURN)\n",
    "        actions.perform()\n",
    "        fields = driver.find_elements_by_css_selector(\".public-DraftStyleDefault-block.public-DraftStyleDefault-ltr\")\n",
    "        last_field = fields[-1]\n",
    "        \n",
    "        num_after = len(fields)\n",
    "        \n",
    "        if last_field.text == \"\" and num_after > num_before:\n",
    "            print(\"Success!\")\n",
    "        else:\n",
    "            print(\"Fail!\")"
   ]
  },
  {
   "cell_type": "code",
   "execution_count": 7,
   "metadata": {},
   "outputs": [],
   "source": [
    "def add_text_paragraph(driver, text):\n",
    "    create_new_paragraph(driver)\n",
    "\n",
    "    fields = driver.find_elements_by_css_selector(\".public-DraftStyleDefault-block.public-DraftStyleDefault-ltr\")\n",
    "#     fields = driver.find_elements_by_css_selector(\".zen-editor-block.zen-editor-block-paragraph\")\n",
    "    last_field = fields[-1]\n",
    "    try:\n",
    "        last_field.click()\n",
    "    except Exception:\n",
    "        pass\n",
    "    \n",
    "    actions = ActionChains(driver)\n",
    "    actions.reset_actions()\n",
    "    actions.move_to_element(last_field)\n",
    "    actions.click()\n",
    "    actions.release()\n",
    "    actions.pause(0.5)\n",
    "    actions.send_keys(text)\n",
    "    actions.perform()"
   ]
  },
  {
   "cell_type": "code",
   "execution_count": 8,
   "metadata": {},
   "outputs": [],
   "source": [
    "# Gif\n",
    "def add_gif_paragraph(driver, url):\n",
    "    sleep(1)\n",
    "    before_images_num = len(driver.find_elements_by_css_selector(\".zen-editor-block-image__image\"))\n",
    "\n",
    "    attachment_button = None\n",
    "    try:\n",
    "        create_new_paragraph(driver)\n",
    "        sleep(1)\n",
    "        attachment_button = driver.find_element_by_css_selector(\".side-button.side-button_logo_image\")\n",
    "        if attachment_button is None:\n",
    "            create_new_paragraph(driver)\n",
    "            sleep(1)\n",
    "            attachment_button = driver.find_element_by_css_selector(\".side-button.side-button_logo_image\")\n",
    "        print(f\"Att button: {attachment_button}\")\n",
    "        attachment_button.click()\n",
    "        sleep(1)\n",
    "    except Exception as e:\n",
    "        print(f\"Can't find or create attachment button {str(e)}\")\n",
    "        return\n",
    "    \n",
    "    if attachment_button is None:\n",
    "        print(\"Can't find or create attachment button\")\n",
    "        return\n",
    "    \n",
    "    \n",
    "\n",
    "    link_field = driver.find_element_by_css_selector(\".image-popup__url-input\")\n",
    "    pyperclip.copy(gif_url)\n",
    "    ActionChains(driver).key_down(Keys.SHIFT).send_keys(Keys.INSERT).key_up(Keys.SHIFT).perform()\n",
    "    sleep(3)\n",
    "\n",
    "    try:\n",
    "        while True:\n",
    "\n",
    "            images_num = len(driver.find_elements_by_css_selector(\".zen-editor-block-image__image\"))\n",
    "            if images_num > before_images_num:\n",
    "                print(\"Posted!\")\n",
    "                break\n",
    "\n",
    "            print(\"Trying to post\")\n",
    "            link_field = driver.find_element_by_css_selector(\".image-popup__url-input\")\n",
    "            link_field.click()\n",
    "            pyperclip.copy(url)\n",
    "            ActionChains(driver).key_down(Keys.SHIFT).send_keys(Keys.INSERT).key_up(Keys.SHIFT).perform()\n",
    "            sleep(1)\n",
    "\n",
    "    except Exception as e:\n",
    "        print(\"Worked before\")\n",
    "        \n",
    "    \n"
   ]
  },
  {
   "cell_type": "code",
   "execution_count": 9,
   "metadata": {},
   "outputs": [],
   "source": [
    "def add_gif_caption(driver, index, caption):\n",
    "    captions = driver.find_elements_by_css_selector(\".zen-editor-block-image__caption\")\n",
    "    print(f\"Captions num: {len(captions)}\")\n",
    "\n",
    "    pyperclip.copy(caption)\n",
    "    \n",
    "    actions = ActionChains(driver)\n",
    "    actions.reset_actions()\n",
    "    print(f\"Moving to {index}\")\n",
    "    actions.move_to_element(captions[index])\n",
    "    actions.pause(2)\n",
    "    actions.move_to_element(captions[index])\n",
    "    actions.pause(2)\n",
    "    actions.click()\n",
    "    actions.pause(2)\n",
    "    actions.perform()\n",
    "    sleep(1)\n",
    "    ActionChains(driver).key_down(Keys.SHIFT).send_keys(Keys.INSERT).key_up(Keys.SHIFT).perform()\n",
    "    sleep(1)"
   ]
  },
  {
   "cell_type": "code",
   "execution_count": 12,
   "metadata": {},
   "outputs": [
    {
     "name": "stdout",
     "output_type": "stream",
     "text": [
      "2\n",
      "2\n",
      "Creating new paragraph\n",
      "Success!\n",
      "Att button: <selenium.webdriver.remote.webelement.WebElement (session=\"a698b9b8de27ba5bff3f63a112e1f581\", element=\"0.325720849855921-4\")>\n",
      "Posted!\n",
      "4\n",
      "Att button: <selenium.webdriver.remote.webelement.WebElement (session=\"a698b9b8de27ba5bff3f63a112e1f581\", element=\"0.325720849855921-4\")>\n",
      "Posted!\n",
      "Captions num: 2\n",
      "Moving to 0\n",
      "Captions num: 2\n",
      "Moving to 1\n"
     ]
    }
   ],
   "source": [
    "add_title(driver, \"My title\")\n",
    "add_text_paragraph(driver, \"Subtitle\")\n",
    "add_gif_paragraph(driver, gif_url)\n",
    "add_gif_paragraph(driver, gif_url)\n",
    "add_gif_caption(driver, 0, \"First\")\n",
    "add_gif_caption(driver, 1, \"Second\")"
   ]
  },
  {
   "cell_type": "code",
   "execution_count": 44,
   "metadata": {},
   "outputs": [],
   "source": [
    "def publish(driver, tags, description):\n",
    "    \n",
    "    publish_button = driver.find_element_by_css_selector(\".editor-header__edit-btn\")\n",
    "    ActionChains(driver).move_to_element(publish_button).click().perform()\n",
    "    \n",
    "    sleep(1)\n",
    "    \n",
    "    description_input = driver.find_element_by_name(\"covers[0].snippet\")\n",
    "    \n",
    "    while description_input.text != \"\":\n",
    "        ActionChains(driver).move_to_element(description_input).click().send_keys(\n",
    "            Keys.BACK_SPACE).send_keys(Keys.DELETE).perform()\n",
    "\n",
    "    sleep(1)\n",
    "    ActionChains(driver).move_to_element(description_input).click().send_keys(description).perform()\n",
    "    \n",
    "    sleep(1)\n",
    "    \n",
    "    tags_input = driver.find_element_by_css_selector(\".ui-lib-tag-input__input\")\n",
    "    ActionChains(driver).move_to_element(tags_input).click().send_keys(\",\".join(tags)).perform()\n",
    "    \n",
    "    sleep(1)\n",
    "    \n",
    "    submit_button = driver.find_element_by_xpath(\".publication-settings-actions__action\")\n",
    "    ActionChains(driver).move_to_element(submit_button).click().perform()"
   ]
  },
  {
   "cell_type": "code",
   "execution_count": 45,
   "metadata": {},
   "outputs": [
    {
     "ename": "InvalidSelectorException",
     "evalue": "Message: invalid selector: Unable to locate an element with the xpath expression .publication-settings-actions__action because of the following error:\nSyntaxError: Failed to execute 'evaluate' on 'Document': The string '.publication-settings-actions__action' is not a valid XPath expression.\n  (Session info: chrome=73.0.3683.103)\n  (Driver info: chromedriver=72.0.3626.69 (3c16f8a135abc0d4da2dff33804db79b849a7c38),platform=Mac OS X 10.14.4 x86_64)\n",
     "traceback": [
      "\u001b[0;31m---------------------------------------------------------------------------\u001b[0m",
      "\u001b[0;31mInvalidSelectorException\u001b[0m                  Traceback (most recent call last)",
      "\u001b[0;32m<ipython-input-45-6d4dd793f874>\u001b[0m in \u001b[0;36m<module>\u001b[0;34m\u001b[0m\n\u001b[0;32m----> 1\u001b[0;31m \u001b[0mpublish\u001b[0m\u001b[0;34m(\u001b[0m\u001b[0mdriver\u001b[0m\u001b[0;34m,\u001b[0m \u001b[0;34m[\u001b[0m\u001b[0;34m\"One\"\u001b[0m\u001b[0;34m,\u001b[0m \u001b[0;34m\"Two\"\u001b[0m\u001b[0;34m,\u001b[0m \u001b[0;34m\"Three\"\u001b[0m\u001b[0;34m]\u001b[0m\u001b[0;34m,\u001b[0m \u001b[0;34m\"Description\"\u001b[0m\u001b[0;34m)\u001b[0m\u001b[0;34m\u001b[0m\u001b[0m\n\u001b[0m",
      "\u001b[0;32m<ipython-input-44-3a60de9344ab>\u001b[0m in \u001b[0;36mpublish\u001b[0;34m(driver, tags, description)\u001b[0m\n\u001b[1;32m     22\u001b[0m     \u001b[0msleep\u001b[0m\u001b[0;34m(\u001b[0m\u001b[0;36m1\u001b[0m\u001b[0;34m)\u001b[0m\u001b[0;34m\u001b[0m\u001b[0m\n\u001b[1;32m     23\u001b[0m \u001b[0;34m\u001b[0m\u001b[0m\n\u001b[0;32m---> 24\u001b[0;31m     \u001b[0msubmit_button\u001b[0m \u001b[0;34m=\u001b[0m \u001b[0mdriver\u001b[0m\u001b[0;34m.\u001b[0m\u001b[0mfind_element_by_xpath\u001b[0m\u001b[0;34m(\u001b[0m\u001b[0;34m\".publication-settings-actions__action\"\u001b[0m\u001b[0;34m)\u001b[0m\u001b[0;34m\u001b[0m\u001b[0m\n\u001b[0m\u001b[1;32m     25\u001b[0m     \u001b[0mActionChains\u001b[0m\u001b[0;34m(\u001b[0m\u001b[0mdriver\u001b[0m\u001b[0;34m)\u001b[0m\u001b[0;34m.\u001b[0m\u001b[0mmove_to_element\u001b[0m\u001b[0;34m(\u001b[0m\u001b[0msubmit_button\u001b[0m\u001b[0;34m)\u001b[0m\u001b[0;34m.\u001b[0m\u001b[0mclick\u001b[0m\u001b[0;34m(\u001b[0m\u001b[0;34m)\u001b[0m\u001b[0;34m.\u001b[0m\u001b[0mperform\u001b[0m\u001b[0;34m(\u001b[0m\u001b[0;34m)\u001b[0m\u001b[0;34m\u001b[0m\u001b[0m\n",
      "\u001b[0;32m/Library/Frameworks/Python.framework/Versions/3.6/lib/python3.6/site-packages/selenium/webdriver/remote/webdriver.py\u001b[0m in \u001b[0;36mfind_element_by_xpath\u001b[0;34m(self, xpath)\u001b[0m\n\u001b[1;32m    392\u001b[0m             \u001b[0melement\u001b[0m \u001b[0;34m=\u001b[0m \u001b[0mdriver\u001b[0m\u001b[0;34m.\u001b[0m\u001b[0mfind_element_by_xpath\u001b[0m\u001b[0;34m(\u001b[0m\u001b[0;34m'//div/td[1]'\u001b[0m\u001b[0;34m)\u001b[0m\u001b[0;34m\u001b[0m\u001b[0m\n\u001b[1;32m    393\u001b[0m         \"\"\"\n\u001b[0;32m--> 394\u001b[0;31m         \u001b[0;32mreturn\u001b[0m \u001b[0mself\u001b[0m\u001b[0;34m.\u001b[0m\u001b[0mfind_element\u001b[0m\u001b[0;34m(\u001b[0m\u001b[0mby\u001b[0m\u001b[0;34m=\u001b[0m\u001b[0mBy\u001b[0m\u001b[0;34m.\u001b[0m\u001b[0mXPATH\u001b[0m\u001b[0;34m,\u001b[0m \u001b[0mvalue\u001b[0m\u001b[0;34m=\u001b[0m\u001b[0mxpath\u001b[0m\u001b[0;34m)\u001b[0m\u001b[0;34m\u001b[0m\u001b[0m\n\u001b[0m\u001b[1;32m    395\u001b[0m \u001b[0;34m\u001b[0m\u001b[0m\n\u001b[1;32m    396\u001b[0m     \u001b[0;32mdef\u001b[0m \u001b[0mfind_elements_by_xpath\u001b[0m\u001b[0;34m(\u001b[0m\u001b[0mself\u001b[0m\u001b[0;34m,\u001b[0m \u001b[0mxpath\u001b[0m\u001b[0;34m)\u001b[0m\u001b[0;34m:\u001b[0m\u001b[0;34m\u001b[0m\u001b[0m\n",
      "\u001b[0;32m/Library/Frameworks/Python.framework/Versions/3.6/lib/python3.6/site-packages/selenium/webdriver/remote/webdriver.py\u001b[0m in \u001b[0;36mfind_element\u001b[0;34m(self, by, value)\u001b[0m\n\u001b[1;32m    976\u001b[0m         return self.execute(Command.FIND_ELEMENT, {\n\u001b[1;32m    977\u001b[0m             \u001b[0;34m'using'\u001b[0m\u001b[0;34m:\u001b[0m \u001b[0mby\u001b[0m\u001b[0;34m,\u001b[0m\u001b[0;34m\u001b[0m\u001b[0m\n\u001b[0;32m--> 978\u001b[0;31m             'value': value})['value']\n\u001b[0m\u001b[1;32m    979\u001b[0m \u001b[0;34m\u001b[0m\u001b[0m\n\u001b[1;32m    980\u001b[0m     \u001b[0;32mdef\u001b[0m \u001b[0mfind_elements\u001b[0m\u001b[0;34m(\u001b[0m\u001b[0mself\u001b[0m\u001b[0;34m,\u001b[0m \u001b[0mby\u001b[0m\u001b[0;34m=\u001b[0m\u001b[0mBy\u001b[0m\u001b[0;34m.\u001b[0m\u001b[0mID\u001b[0m\u001b[0;34m,\u001b[0m \u001b[0mvalue\u001b[0m\u001b[0;34m=\u001b[0m\u001b[0;32mNone\u001b[0m\u001b[0;34m)\u001b[0m\u001b[0;34m:\u001b[0m\u001b[0;34m\u001b[0m\u001b[0m\n",
      "\u001b[0;32m/Library/Frameworks/Python.framework/Versions/3.6/lib/python3.6/site-packages/selenium/webdriver/remote/webdriver.py\u001b[0m in \u001b[0;36mexecute\u001b[0;34m(self, driver_command, params)\u001b[0m\n\u001b[1;32m    319\u001b[0m         \u001b[0mresponse\u001b[0m \u001b[0;34m=\u001b[0m \u001b[0mself\u001b[0m\u001b[0;34m.\u001b[0m\u001b[0mcommand_executor\u001b[0m\u001b[0;34m.\u001b[0m\u001b[0mexecute\u001b[0m\u001b[0;34m(\u001b[0m\u001b[0mdriver_command\u001b[0m\u001b[0;34m,\u001b[0m \u001b[0mparams\u001b[0m\u001b[0;34m)\u001b[0m\u001b[0;34m\u001b[0m\u001b[0m\n\u001b[1;32m    320\u001b[0m         \u001b[0;32mif\u001b[0m \u001b[0mresponse\u001b[0m\u001b[0;34m:\u001b[0m\u001b[0;34m\u001b[0m\u001b[0m\n\u001b[0;32m--> 321\u001b[0;31m             \u001b[0mself\u001b[0m\u001b[0;34m.\u001b[0m\u001b[0merror_handler\u001b[0m\u001b[0;34m.\u001b[0m\u001b[0mcheck_response\u001b[0m\u001b[0;34m(\u001b[0m\u001b[0mresponse\u001b[0m\u001b[0;34m)\u001b[0m\u001b[0;34m\u001b[0m\u001b[0m\n\u001b[0m\u001b[1;32m    322\u001b[0m             response['value'] = self._unwrap_value(\n\u001b[1;32m    323\u001b[0m                 response.get('value', None))\n",
      "\u001b[0;32m/Library/Frameworks/Python.framework/Versions/3.6/lib/python3.6/site-packages/selenium/webdriver/remote/errorhandler.py\u001b[0m in \u001b[0;36mcheck_response\u001b[0;34m(self, response)\u001b[0m\n\u001b[1;32m    240\u001b[0m                 \u001b[0malert_text\u001b[0m \u001b[0;34m=\u001b[0m \u001b[0mvalue\u001b[0m\u001b[0;34m[\u001b[0m\u001b[0;34m'alert'\u001b[0m\u001b[0;34m]\u001b[0m\u001b[0;34m.\u001b[0m\u001b[0mget\u001b[0m\u001b[0;34m(\u001b[0m\u001b[0;34m'text'\u001b[0m\u001b[0;34m)\u001b[0m\u001b[0;34m\u001b[0m\u001b[0m\n\u001b[1;32m    241\u001b[0m             \u001b[0;32mraise\u001b[0m \u001b[0mexception_class\u001b[0m\u001b[0;34m(\u001b[0m\u001b[0mmessage\u001b[0m\u001b[0;34m,\u001b[0m \u001b[0mscreen\u001b[0m\u001b[0;34m,\u001b[0m \u001b[0mstacktrace\u001b[0m\u001b[0;34m,\u001b[0m \u001b[0malert_text\u001b[0m\u001b[0;34m)\u001b[0m\u001b[0;34m\u001b[0m\u001b[0m\n\u001b[0;32m--> 242\u001b[0;31m         \u001b[0;32mraise\u001b[0m \u001b[0mexception_class\u001b[0m\u001b[0;34m(\u001b[0m\u001b[0mmessage\u001b[0m\u001b[0;34m,\u001b[0m \u001b[0mscreen\u001b[0m\u001b[0;34m,\u001b[0m \u001b[0mstacktrace\u001b[0m\u001b[0;34m)\u001b[0m\u001b[0;34m\u001b[0m\u001b[0m\n\u001b[0m\u001b[1;32m    243\u001b[0m \u001b[0;34m\u001b[0m\u001b[0m\n\u001b[1;32m    244\u001b[0m     \u001b[0;32mdef\u001b[0m \u001b[0m_value_or_default\u001b[0m\u001b[0;34m(\u001b[0m\u001b[0mself\u001b[0m\u001b[0;34m,\u001b[0m \u001b[0mobj\u001b[0m\u001b[0;34m,\u001b[0m \u001b[0mkey\u001b[0m\u001b[0;34m,\u001b[0m \u001b[0mdefault\u001b[0m\u001b[0;34m)\u001b[0m\u001b[0;34m:\u001b[0m\u001b[0;34m\u001b[0m\u001b[0m\n",
      "\u001b[0;31mInvalidSelectorException\u001b[0m: Message: invalid selector: Unable to locate an element with the xpath expression .publication-settings-actions__action because of the following error:\nSyntaxError: Failed to execute 'evaluate' on 'Document': The string '.publication-settings-actions__action' is not a valid XPath expression.\n  (Session info: chrome=73.0.3683.103)\n  (Driver info: chromedriver=72.0.3626.69 (3c16f8a135abc0d4da2dff33804db79b849a7c38),platform=Mac OS X 10.14.4 x86_64)\n"
     ],
     "output_type": "error"
    }
   ],
   "source": [
    "publish(driver, [\"One\", \"Two\", \"Three\"], \"Description\")"
   ]
  },
  {
   "cell_type": "code",
   "execution_count": null,
   "metadata": {},
   "outputs": [],
   "source": []
  }
 ],
 "metadata": {
  "kernelspec": {
   "display_name": "Python 3",
   "language": "python",
   "name": "python3"
  },
  "language_info": {
   "codemirror_mode": {
    "name": "ipython",
    "version": 3
   },
   "file_extension": ".py",
   "mimetype": "text/x-python",
   "name": "python",
   "nbconvert_exporter": "python",
   "pygments_lexer": "ipython3",
   "version": "3.6.5"
  }
 },
 "nbformat": 4,
 "nbformat_minor": 2
}
